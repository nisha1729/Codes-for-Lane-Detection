{
  "nbformat": 4,
  "nbformat_minor": 0,
  "metadata": {
    "colab": {
      "name": "SCNN",
      "provenance": [],
      "collapsed_sections": [],
      "mount_file_id": "11US7YwmpcjX79aW7HlO59KxUTN2_BapA",
      "authorship_tag": "ABX9TyOAJCTdlCaqaT2ofiQOiO0p",
      "include_colab_link": true
    },
    "kernelspec": {
      "name": "python3",
      "display_name": "Python 3"
    },
    "accelerator": "GPU"
  },
  "cells": [
    {
      "cell_type": "markdown",
      "metadata": {
        "id": "view-in-github",
        "colab_type": "text"
      },
      "source": [
        "<a href=\"https://colab.research.google.com/github/nisha1729/Codes-for-Lane-Detection/blob/master/SCNN.ipynb\" target=\"_parent\"><img src=\"https://colab.research.google.com/assets/colab-badge.svg\" alt=\"Open In Colab\"/></a>"
      ]
    },
    {
      "cell_type": "code",
      "metadata": {
        "id": "V1PJEhzdl1uY",
        "colab_type": "code",
        "colab": {}
      },
      "source": [
        "# from google.colab import drive\n",
        "# drive.mount(\"/content/gdrive\")\n",
        "import os\n",
        "os.chdir(\"/content/drive/My Drive/SCNN-Tensorflow/lane-detection-model\")"
      ],
      "execution_count": 1,
      "outputs": []
    },
    {
      "cell_type": "code",
      "metadata": {
        "id": "SLriVyRZjuI2",
        "colab_type": "code",
        "colab": {}
      },
      "source": [
        "!pip install glog\n",
        "!pip install tensorflow==1.15 # for tensorflow.contrib"
      ],
      "execution_count": null,
      "outputs": []
    },
    {
      "cell_type": "code",
      "metadata": {
        "id": "7xnDuxM9myIE",
        "colab_type": "code",
        "colab": {}
      },
      "source": [
        "!python config/global_config.py\n",
        "\n",
        "# Add the following two lines to each .py file\n",
        "# import sys\n",
        "# sys.path.append('/content/drive/My Drive/SCNN-Tensorflow/lane-detection-model/config')\n",
        "\n",
        "!python data_provider/lanenet_data_processor.py\n",
        "!python data_provider/lanenet_data_processor_test.py\n",
        "!python encoder_decoder_model/cnn_basenet.py\n",
        "!python encoder_decoder_model/vgg_encoder.py\n",
        "!python lanenet_model/lanenet_merge_model.py"
      ],
      "execution_count": null,
      "outputs": []
    },
    {
      "cell_type": "code",
      "metadata": {
        "id": "KfAqa4Pcg9Ej",
        "colab_type": "code",
        "colab": {
          "base_uri": "https://localhost:8080/",
          "height": 1000
        },
        "outputId": "6ad1eb69-9d22-4c68-8d27-4ae6200eb70d"
      },
      "source": [
        "!python tools/test_lanenet.py --weights_path model_culane-71-3/culane_lanenet_vgg_2018-12-01-14-38-37.ckpt-10000 --image_path img_list.txt --save_dir prediction\n"
      ],
      "execution_count": 16,
      "outputs": [
        {
          "output_type": "stream",
          "text": [
            "I0730 23:35:05.599332 1068 utils.py:141] NumExpr defaulting to 2 threads.\n",
            "WARNING:tensorflow:\n",
            "The TensorFlow contrib module will not be included in TensorFlow 2.0.\n",
            "For more information, please see:\n",
            "  * https://github.com/tensorflow/community/blob/master/rfcs/20180907-contrib-sunset.md\n",
            "  * https://github.com/tensorflow/addons\n",
            "  * https://github.com/tensorflow/io (for I/O related ops)\n",
            "If you depend on functionality not listed there, please file an issue.\n",
            "\n",
            "W0730 23:35:05.927259 1068 lazy_loader.py:50] \n",
            "The TensorFlow contrib module will not be included in TensorFlow 2.0.\n",
            "For more information, please see:\n",
            "  * https://github.com/tensorflow/community/blob/master/rfcs/20180907-contrib-sunset.md\n",
            "  * https://github.com/tensorflow/addons\n",
            "  * https://github.com/tensorflow/io (for I/O related ops)\n",
            "If you depend on functionality not listed there, please file an issue.\n",
            "\n",
            "E0730 23:35:05.940582 1068 test_lanenet.py:115] prediction not exist and has been made\n",
            "WARNING:tensorflow:From /content/drive/My Drive/SCNN-Tensorflow/lane-detection-model/data_provider/lanenet_data_processor_test.py:44: The name tf.gfile.Exists is deprecated. Please use tf.io.gfile.exists instead.\n",
            "\n",
            "W0730 23:35:05.943472 1068 module_wrapper.py:139] From /content/drive/My Drive/SCNN-Tensorflow/lane-detection-model/data_provider/lanenet_data_processor_test.py:44: The name tf.gfile.Exists is deprecated. Please use tf.io.gfile.exists instead.\n",
            "\n",
            "WARNING:tensorflow:From tools/test_lanenet.py:62: The name tf.placeholder is deprecated. Please use tf.compat.v1.placeholder instead.\n",
            "\n",
            "W0730 23:35:05.944358 1068 module_wrapper.py:139] From tools/test_lanenet.py:62: The name tf.placeholder is deprecated. Please use tf.compat.v1.placeholder instead.\n",
            "\n",
            "WARNING:tensorflow:From /content/drive/My Drive/SCNN-Tensorflow/lane-detection-model/data_provider/lanenet_data_processor_test.py:58: The name tf.read_file is deprecated. Please use tf.io.read_file instead.\n",
            "\n",
            "W0730 23:35:05.973655 1068 module_wrapper.py:139] From /content/drive/My Drive/SCNN-Tensorflow/lane-detection-model/data_provider/lanenet_data_processor_test.py:58: The name tf.read_file is deprecated. Please use tf.io.read_file instead.\n",
            "\n",
            "WARNING:tensorflow:From /content/drive/My Drive/SCNN-Tensorflow/lane-detection-model/data_provider/lanenet_data_processor_test.py:60: The name tf.image.resize_images is deprecated. Please use tf.image.resize instead.\n",
            "\n",
            "W0730 23:35:05.975013 1068 module_wrapper.py:139] From /content/drive/My Drive/SCNN-Tensorflow/lane-detection-model/data_provider/lanenet_data_processor_test.py:60: The name tf.image.resize_images is deprecated. Please use tf.image.resize instead.\n",
            "\n",
            "WARNING:tensorflow:From /content/drive/My Drive/SCNN-Tensorflow/lane-detection-model/lanenet_model/lanenet_merge_model.py:37: The name tf.variable_scope is deprecated. Please use tf.compat.v1.variable_scope instead.\n",
            "\n",
            "W0730 23:35:05.989953 1068 module_wrapper.py:139] From /content/drive/My Drive/SCNN-Tensorflow/lane-detection-model/lanenet_model/lanenet_merge_model.py:37: The name tf.variable_scope is deprecated. Please use tf.compat.v1.variable_scope instead.\n",
            "\n",
            "WARNING:tensorflow:From /content/drive/My Drive/SCNN-Tensorflow/lane-detection-model/encoder_decoder_model/cnn_basenet.py:76: The name tf.get_variable is deprecated. Please use tf.compat.v1.get_variable instead.\n",
            "\n",
            "W0730 23:35:05.991927 1068 module_wrapper.py:139] From /content/drive/My Drive/SCNN-Tensorflow/lane-detection-model/encoder_decoder_model/cnn_basenet.py:76: The name tf.get_variable is deprecated. Please use tf.compat.v1.get_variable instead.\n",
            "\n",
            "WARNING:tensorflow:From /content/drive/My Drive/SCNN-Tensorflow/lane-detection-model/encoder_decoder_model/cnn_basenet.py:148: The name tf.nn.max_pool is deprecated. Please use tf.nn.max_pool2d instead.\n",
            "\n",
            "W0730 23:35:06.065600 1068 module_wrapper.py:139] From /content/drive/My Drive/SCNN-Tensorflow/lane-detection-model/encoder_decoder_model/cnn_basenet.py:148: The name tf.nn.max_pool is deprecated. Please use tf.nn.max_pool2d instead.\n",
            "\n",
            "WARNING:tensorflow:From /content/drive/My Drive/SCNN-Tensorflow/lane-detection-model/encoder_decoder_model/cnn_basenet.py:284: calling dropout (from tensorflow.python.ops.nn_ops) with keep_prob is deprecated and will be removed in a future version.\n",
            "Instructions for updating:\n",
            "Please use `rate` instead of `keep_prob`. Rate should be set to `rate = 1 - keep_prob`.\n",
            "W0730 23:35:07.507586 1068 deprecation.py:506] From /content/drive/My Drive/SCNN-Tensorflow/lane-detection-model/encoder_decoder_model/cnn_basenet.py:284: calling dropout (from tensorflow.python.ops.nn_ops) with keep_prob is deprecated and will be removed in a future version.\n",
            "Instructions for updating:\n",
            "Please use `rate` instead of `keep_prob`. Rate should be set to `rate = 1 - keep_prob`.\n",
            "WARNING:tensorflow:From /content/drive/My Drive/SCNN-Tensorflow/lane-detection-model/encoder_decoder_model/cnn_basenet.py:172: The name tf.nn.avg_pool is deprecated. Please use tf.nn.avg_pool2d instead.\n",
            "\n",
            "W0730 23:35:07.532192 1068 module_wrapper.py:139] From /content/drive/My Drive/SCNN-Tensorflow/lane-detection-model/encoder_decoder_model/cnn_basenet.py:172: The name tf.nn.avg_pool is deprecated. Please use tf.nn.avg_pool2d instead.\n",
            "\n",
            "WARNING:tensorflow:From /content/drive/My Drive/SCNN-Tensorflow/lane-detection-model/encoder_decoder_model/cnn_basenet.py:330: dense (from tensorflow.python.layers.core) is deprecated and will be removed in a future version.\n",
            "Instructions for updating:\n",
            "Use keras.layers.Dense instead.\n",
            "W0730 23:35:07.534904 1068 deprecation.py:323] From /content/drive/My Drive/SCNN-Tensorflow/lane-detection-model/encoder_decoder_model/cnn_basenet.py:330: dense (from tensorflow.python.layers.core) is deprecated and will be removed in a future version.\n",
            "Instructions for updating:\n",
            "Use keras.layers.Dense instead.\n",
            "WARNING:tensorflow:From /usr/local/lib/python3.6/dist-packages/tensorflow_core/python/layers/core.py:187: Layer.apply (from tensorflow.python.keras.engine.base_layer) is deprecated and will be removed in a future version.\n",
            "Instructions for updating:\n",
            "Please use `layer.__call__` method instead.\n",
            "W0730 23:35:07.536352 1068 deprecation.py:323] From /usr/local/lib/python3.6/dist-packages/tensorflow_core/python/layers/core.py:187: Layer.apply (from tensorflow.python.keras.engine.base_layer) is deprecated and will be removed in a future version.\n",
            "Instructions for updating:\n",
            "Please use `layer.__call__` method instead.\n",
            "WARNING:tensorflow:From tools/test_lanenet.py:68: The name tf.global_variables is deprecated. Please use tf.compat.v1.global_variables instead.\n",
            "\n",
            "W0730 23:35:07.585962 1068 module_wrapper.py:139] From tools/test_lanenet.py:68: The name tf.global_variables is deprecated. Please use tf.compat.v1.global_variables instead.\n",
            "\n",
            "WARNING:tensorflow:From tools/test_lanenet.py:70: The name tf.train.Saver is deprecated. Please use tf.compat.v1.train.Saver instead.\n",
            "\n",
            "W0730 23:35:07.586169 1068 module_wrapper.py:139] From tools/test_lanenet.py:70: The name tf.train.Saver is deprecated. Please use tf.compat.v1.train.Saver instead.\n",
            "\n",
            "WARNING:tensorflow:From tools/test_lanenet.py:73: The name tf.ConfigProto is deprecated. Please use tf.compat.v1.ConfigProto instead.\n",
            "\n",
            "W0730 23:35:07.650001 1068 module_wrapper.py:139] From tools/test_lanenet.py:73: The name tf.ConfigProto is deprecated. Please use tf.compat.v1.ConfigProto instead.\n",
            "\n",
            "WARNING:tensorflow:From tools/test_lanenet.py:79: The name tf.Session is deprecated. Please use tf.compat.v1.Session instead.\n",
            "\n",
            "W0730 23:35:07.650236 1068 module_wrapper.py:139] From tools/test_lanenet.py:79: The name tf.Session is deprecated. Please use tf.compat.v1.Session instead.\n",
            "\n",
            "2020-07-30 23:35:07.650494: I tensorflow/core/platform/cpu_feature_guard.cc:142] Your CPU supports instructions that this TensorFlow binary was not compiled to use: AVX2 AVX512F FMA\n",
            "2020-07-30 23:35:07.655416: I tensorflow/core/platform/profile_utils/cpu_utils.cc:94] CPU Frequency: 2000134999 Hz\n",
            "2020-07-30 23:35:07.655640: I tensorflow/compiler/xla/service/service.cc:168] XLA service 0x294d100 initialized for platform Host (this does not guarantee that XLA will be used). Devices:\n",
            "2020-07-30 23:35:07.655669: I tensorflow/compiler/xla/service/service.cc:176]   StreamExecutor device (0): Host, Default Version\n",
            "2020-07-30 23:35:07.657576: I tensorflow/stream_executor/platform/default/dso_loader.cc:44] Successfully opened dynamic library libcuda.so.1\n",
            "2020-07-30 23:35:07.803086: I tensorflow/stream_executor/cuda/cuda_gpu_executor.cc:983] successful NUMA node read from SysFS had negative value (-1), but there must be at least one NUMA node, so returning NUMA node zero\n",
            "2020-07-30 23:35:07.803764: I tensorflow/compiler/xla/service/service.cc:168] XLA service 0x294d2c0 initialized for platform CUDA (this does not guarantee that XLA will be used). Devices:\n",
            "2020-07-30 23:35:07.803793: I tensorflow/compiler/xla/service/service.cc:176]   StreamExecutor device (0): Tesla T4, Compute Capability 7.5\n",
            "2020-07-30 23:35:07.803963: I tensorflow/stream_executor/cuda/cuda_gpu_executor.cc:983] successful NUMA node read from SysFS had negative value (-1), but there must be at least one NUMA node, so returning NUMA node zero\n",
            "2020-07-30 23:35:07.804550: I tensorflow/core/common_runtime/gpu/gpu_device.cc:1618] Found device 0 with properties: \n",
            "name: Tesla T4 major: 7 minor: 5 memoryClockRate(GHz): 1.59\n",
            "pciBusID: 0000:00:04.0\n",
            "2020-07-30 23:35:07.804886: I tensorflow/stream_executor/platform/default/dso_loader.cc:44] Successfully opened dynamic library libcudart.so.10.0\n",
            "2020-07-30 23:35:07.807065: I tensorflow/stream_executor/platform/default/dso_loader.cc:44] Successfully opened dynamic library libcublas.so.10.0\n",
            "2020-07-30 23:35:07.808633: I tensorflow/stream_executor/platform/default/dso_loader.cc:44] Successfully opened dynamic library libcufft.so.10.0\n",
            "2020-07-30 23:35:07.808959: I tensorflow/stream_executor/platform/default/dso_loader.cc:44] Successfully opened dynamic library libcurand.so.10.0\n",
            "2020-07-30 23:35:07.810240: I tensorflow/stream_executor/platform/default/dso_loader.cc:44] Successfully opened dynamic library libcusolver.so.10.0\n",
            "2020-07-30 23:35:07.811143: I tensorflow/stream_executor/platform/default/dso_loader.cc:44] Successfully opened dynamic library libcusparse.so.10.0\n",
            "2020-07-30 23:35:07.814099: I tensorflow/stream_executor/platform/default/dso_loader.cc:44] Successfully opened dynamic library libcudnn.so.7\n",
            "2020-07-30 23:35:07.814220: I tensorflow/stream_executor/cuda/cuda_gpu_executor.cc:983] successful NUMA node read from SysFS had negative value (-1), but there must be at least one NUMA node, so returning NUMA node zero\n",
            "2020-07-30 23:35:07.814883: I tensorflow/stream_executor/cuda/cuda_gpu_executor.cc:983] successful NUMA node read from SysFS had negative value (-1), but there must be at least one NUMA node, so returning NUMA node zero\n",
            "2020-07-30 23:35:07.815591: I tensorflow/core/common_runtime/gpu/gpu_device.cc:1746] Adding visible gpu devices: 0\n",
            "2020-07-30 23:35:07.815688: I tensorflow/stream_executor/platform/default/dso_loader.cc:44] Successfully opened dynamic library libcudart.so.10.0\n",
            "2020-07-30 23:35:07.817013: I tensorflow/core/common_runtime/gpu/gpu_device.cc:1159] Device interconnect StreamExecutor with strength 1 edge matrix:\n",
            "2020-07-30 23:35:07.817044: I tensorflow/core/common_runtime/gpu/gpu_device.cc:1165]      0 \n",
            "2020-07-30 23:35:07.817055: I tensorflow/core/common_runtime/gpu/gpu_device.cc:1178] 0:   N \n",
            "2020-07-30 23:35:07.817178: I tensorflow/stream_executor/cuda/cuda_gpu_executor.cc:983] successful NUMA node read from SysFS had negative value (-1), but there must be at least one NUMA node, so returning NUMA node zero\n",
            "2020-07-30 23:35:07.817763: I tensorflow/stream_executor/cuda/cuda_gpu_executor.cc:983] successful NUMA node read from SysFS had negative value (-1), but there must be at least one NUMA node, so returning NUMA node zero\n",
            "2020-07-30 23:35:07.818271: I tensorflow/core/common_runtime/gpu/gpu_device.cc:1304] Created TensorFlow device (/job:localhost/replica:0/task:0/device:GPU:0 with 12063 MB memory) -> physical GPU (device: 0, name: Tesla T4, pci bus id: 0000:00:04.0, compute capability: 7.5)\n",
            "WARNING:tensorflow:From tools/test_lanenet.py:81: The name tf.global_variables_initializer is deprecated. Please use tf.compat.v1.global_variables_initializer instead.\n",
            "\n",
            "W0730 23:35:07.818976 1068 module_wrapper.py:139] From tools/test_lanenet.py:81: The name tf.global_variables_initializer is deprecated. Please use tf.compat.v1.global_variables_initializer instead.\n",
            "\n",
            "INFO:tensorflow:Restoring parameters from model_culane-71-3/culane_lanenet_vgg_2018-12-01-14-38-37.ckpt-10000\n",
            "I0730 23:35:08.564863 1068 saver.py:1284] Restoring parameters from model_culane-71-3/culane_lanenet_vgg_2018-12-01-14-38-37.ckpt-10000\n",
            "0\n",
            "2020-07-30 23:35:09.852530: I tensorflow/stream_executor/platform/default/dso_loader.cc:44] Successfully opened dynamic library libcublas.so.10.0\n",
            "2020-07-30 23:35:10.360556: I tensorflow/stream_executor/platform/default/dso_loader.cc:44] Successfully opened dynamic library libcudnn.so.7\n",
            "images/IMG_4603.JPG\n",
            "prediction\n",
            "images\n",
            "prediction/vgg_SCNN_DULR_w9/images\n"
          ],
          "name": "stdout"
        }
      ]
    }
  ]
}