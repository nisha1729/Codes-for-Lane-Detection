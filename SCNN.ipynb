{
  "nbformat": 4,
  "nbformat_minor": 0,
  "metadata": {
    "colab": {
      "name": "SCNN",
      "provenance": [],
      "collapsed_sections": [],
      "mount_file_id": "11US7YwmpcjX79aW7HlO59KxUTN2_BapA",
      "authorship_tag": "ABX9TyMIDfuy2NiL2Fw0/oA2cxZd",
      "include_colab_link": true
    },
    "kernelspec": {
      "name": "python3",
      "display_name": "Python 3"
    },
    "accelerator": "TPU"
  },
  "cells": [
    {
      "cell_type": "markdown",
      "metadata": {
        "id": "view-in-github",
        "colab_type": "text"
      },
      "source": [
        "<a href=\"https://colab.research.google.com/github/nisha1729/Codes-for-Lane-Detection/blob/master/SCNN.ipynb\" target=\"_parent\"><img src=\"https://colab.research.google.com/assets/colab-badge.svg\" alt=\"Open In Colab\"/></a>"
      ]
    },
    {
      "cell_type": "code",
      "metadata": {
        "id": "V1PJEhzdl1uY",
        "colab_type": "code",
        "colab": {}
      },
      "source": [
        "# from google.colab import drive\n",
        "# drive.mount(\"/content/gdrive\")\n",
        "import os\n",
        "os.chdir(\"/content/drive/My Drive/SCNN-Tensorflow/lane-detection-model\")"
      ],
      "execution_count": 13,
      "outputs": []
    },
    {
      "cell_type": "code",
      "metadata": {
        "id": "SLriVyRZjuI2",
        "colab_type": "code",
        "colab": {}
      },
      "source": [
        "!pip install glog\n",
        "!pip install tensorflow==1.15 # for tensorflow.contrib"
      ],
      "execution_count": null,
      "outputs": []
    },
    {
      "cell_type": "code",
      "metadata": {
        "id": "7xnDuxM9myIE",
        "colab_type": "code",
        "colab": {}
      },
      "source": [
        "!python config/global_config.py\n",
        "\n",
        "# Add the following two lines to each .py file\n",
        "# import sys\n",
        "# sys.path.append('/content/drive/My Drive/SCNN-Tensorflow/lane-detection-model/config')\n",
        "\n",
        "!python data_provider/lanenet_data_processor.py\n",
        "!python data_provider/lanenet_data_processor_test.py\n",
        "!python encoder_decoder_model/cnn_basenet.py\n",
        "!python encoder_decoder_model/vgg_encoder.py\n",
        "!python lanenet_model/lanenet_merge_model.py"
      ],
      "execution_count": null,
      "outputs": []
    },
    {
      "cell_type": "code",
      "metadata": {
        "id": "KfAqa4Pcg9Ej",
        "colab_type": "code",
        "colab": {
          "base_uri": "https://localhost:8080/",
          "height": 1000
        },
        "outputId": "7e8429cd-db2a-4e95-e40f-9c0734c2fadf"
      },
      "source": [
        "!python tools/test_lanenet.py --weights_path model_culane-71-3/culane_lanenet_vgg_2018-12-01-14-38-37.ckpt-10000 --image_path img_list.txt --save_dir prediction\n",
        "\n",
        "# output: files of resolution 800 x 288\n"
      ],
      "execution_count": 41,
      "outputs": [
        {
          "output_type": "stream",
          "text": [
            "I0803 14:58:25.397449 5045 utils.py:141] NumExpr defaulting to 2 threads.\n",
            "WARNING:tensorflow:\n",
            "The TensorFlow contrib module will not be included in TensorFlow 2.0.\n",
            "For more information, please see:\n",
            "  * https://github.com/tensorflow/community/blob/master/rfcs/20180907-contrib-sunset.md\n",
            "  * https://github.com/tensorflow/addons\n",
            "  * https://github.com/tensorflow/io (for I/O related ops)\n",
            "If you depend on functionality not listed there, please file an issue.\n",
            "\n",
            "W0803 14:58:25.818028 5045 lazy_loader.py:50] \n",
            "The TensorFlow contrib module will not be included in TensorFlow 2.0.\n",
            "For more information, please see:\n",
            "  * https://github.com/tensorflow/community/blob/master/rfcs/20180907-contrib-sunset.md\n",
            "  * https://github.com/tensorflow/addons\n",
            "  * https://github.com/tensorflow/io (for I/O related ops)\n",
            "If you depend on functionality not listed there, please file an issue.\n",
            "\n",
            "WARNING:tensorflow:From /content/drive/My Drive/SCNN-Tensorflow/lane-detection-model/data_provider/lanenet_data_processor_test.py:44: The name tf.gfile.Exists is deprecated. Please use tf.io.gfile.exists instead.\n",
            "\n",
            "W0803 14:58:25.835558 5045 module_wrapper.py:139] From /content/drive/My Drive/SCNN-Tensorflow/lane-detection-model/data_provider/lanenet_data_processor_test.py:44: The name tf.gfile.Exists is deprecated. Please use tf.io.gfile.exists instead.\n",
            "\n",
            "WARNING:tensorflow:From tools/test_lanenet.py:62: The name tf.placeholder is deprecated. Please use tf.compat.v1.placeholder instead.\n",
            "\n",
            "W0803 14:58:25.836792 5045 module_wrapper.py:139] From tools/test_lanenet.py:62: The name tf.placeholder is deprecated. Please use tf.compat.v1.placeholder instead.\n",
            "\n",
            "WARNING:tensorflow:From /content/drive/My Drive/SCNN-Tensorflow/lane-detection-model/data_provider/lanenet_data_processor_test.py:58: The name tf.read_file is deprecated. Please use tf.io.read_file instead.\n",
            "\n",
            "W0803 14:58:25.874634 5045 module_wrapper.py:139] From /content/drive/My Drive/SCNN-Tensorflow/lane-detection-model/data_provider/lanenet_data_processor_test.py:58: The name tf.read_file is deprecated. Please use tf.io.read_file instead.\n",
            "\n",
            "WARNING:tensorflow:From /content/drive/My Drive/SCNN-Tensorflow/lane-detection-model/data_provider/lanenet_data_processor_test.py:60: The name tf.image.resize_images is deprecated. Please use tf.image.resize instead.\n",
            "\n",
            "W0803 14:58:25.876477 5045 module_wrapper.py:139] From /content/drive/My Drive/SCNN-Tensorflow/lane-detection-model/data_provider/lanenet_data_processor_test.py:60: The name tf.image.resize_images is deprecated. Please use tf.image.resize instead.\n",
            "\n",
            "WARNING:tensorflow:From /content/drive/My Drive/SCNN-Tensorflow/lane-detection-model/lanenet_model/lanenet_merge_model.py:37: The name tf.variable_scope is deprecated. Please use tf.compat.v1.variable_scope instead.\n",
            "\n",
            "W0803 14:58:25.895075 5045 module_wrapper.py:139] From /content/drive/My Drive/SCNN-Tensorflow/lane-detection-model/lanenet_model/lanenet_merge_model.py:37: The name tf.variable_scope is deprecated. Please use tf.compat.v1.variable_scope instead.\n",
            "\n",
            "WARNING:tensorflow:From /content/drive/My Drive/SCNN-Tensorflow/lane-detection-model/encoder_decoder_model/cnn_basenet.py:76: The name tf.get_variable is deprecated. Please use tf.compat.v1.get_variable instead.\n",
            "\n",
            "W0803 14:58:25.897374 5045 module_wrapper.py:139] From /content/drive/My Drive/SCNN-Tensorflow/lane-detection-model/encoder_decoder_model/cnn_basenet.py:76: The name tf.get_variable is deprecated. Please use tf.compat.v1.get_variable instead.\n",
            "\n",
            "WARNING:tensorflow:From /content/drive/My Drive/SCNN-Tensorflow/lane-detection-model/encoder_decoder_model/cnn_basenet.py:148: The name tf.nn.max_pool is deprecated. Please use tf.nn.max_pool2d instead.\n",
            "\n",
            "W0803 14:58:25.983342 5045 module_wrapper.py:139] From /content/drive/My Drive/SCNN-Tensorflow/lane-detection-model/encoder_decoder_model/cnn_basenet.py:148: The name tf.nn.max_pool is deprecated. Please use tf.nn.max_pool2d instead.\n",
            "\n",
            "WARNING:tensorflow:From /content/drive/My Drive/SCNN-Tensorflow/lane-detection-model/encoder_decoder_model/cnn_basenet.py:284: calling dropout (from tensorflow.python.ops.nn_ops) with keep_prob is deprecated and will be removed in a future version.\n",
            "Instructions for updating:\n",
            "Please use `rate` instead of `keep_prob`. Rate should be set to `rate = 1 - keep_prob`.\n",
            "W0803 14:58:27.725405 5045 deprecation.py:506] From /content/drive/My Drive/SCNN-Tensorflow/lane-detection-model/encoder_decoder_model/cnn_basenet.py:284: calling dropout (from tensorflow.python.ops.nn_ops) with keep_prob is deprecated and will be removed in a future version.\n",
            "Instructions for updating:\n",
            "Please use `rate` instead of `keep_prob`. Rate should be set to `rate = 1 - keep_prob`.\n",
            "WARNING:tensorflow:From /content/drive/My Drive/SCNN-Tensorflow/lane-detection-model/encoder_decoder_model/cnn_basenet.py:172: The name tf.nn.avg_pool is deprecated. Please use tf.nn.avg_pool2d instead.\n",
            "\n",
            "W0803 14:58:27.755400 5045 module_wrapper.py:139] From /content/drive/My Drive/SCNN-Tensorflow/lane-detection-model/encoder_decoder_model/cnn_basenet.py:172: The name tf.nn.avg_pool is deprecated. Please use tf.nn.avg_pool2d instead.\n",
            "\n",
            "WARNING:tensorflow:From /content/drive/My Drive/SCNN-Tensorflow/lane-detection-model/encoder_decoder_model/cnn_basenet.py:330: dense (from tensorflow.python.layers.core) is deprecated and will be removed in a future version.\n",
            "Instructions for updating:\n",
            "Use keras.layers.Dense instead.\n",
            "W0803 14:58:27.758855 5045 deprecation.py:323] From /content/drive/My Drive/SCNN-Tensorflow/lane-detection-model/encoder_decoder_model/cnn_basenet.py:330: dense (from tensorflow.python.layers.core) is deprecated and will be removed in a future version.\n",
            "Instructions for updating:\n",
            "Use keras.layers.Dense instead.\n",
            "WARNING:tensorflow:From /usr/local/lib/python3.6/dist-packages/tensorflow_core/python/layers/core.py:187: Layer.apply (from tensorflow.python.keras.engine.base_layer) is deprecated and will be removed in a future version.\n",
            "Instructions for updating:\n",
            "Please use `layer.__call__` method instead.\n",
            "W0803 14:58:27.760535 5045 deprecation.py:323] From /usr/local/lib/python3.6/dist-packages/tensorflow_core/python/layers/core.py:187: Layer.apply (from tensorflow.python.keras.engine.base_layer) is deprecated and will be removed in a future version.\n",
            "Instructions for updating:\n",
            "Please use `layer.__call__` method instead.\n",
            "WARNING:tensorflow:From tools/test_lanenet.py:68: The name tf.global_variables is deprecated. Please use tf.compat.v1.global_variables instead.\n",
            "\n",
            "W0803 14:58:27.821444 5045 module_wrapper.py:139] From tools/test_lanenet.py:68: The name tf.global_variables is deprecated. Please use tf.compat.v1.global_variables instead.\n",
            "\n",
            "WARNING:tensorflow:From tools/test_lanenet.py:70: The name tf.train.Saver is deprecated. Please use tf.compat.v1.train.Saver instead.\n",
            "\n",
            "W0803 14:58:27.821774 5045 module_wrapper.py:139] From tools/test_lanenet.py:70: The name tf.train.Saver is deprecated. Please use tf.compat.v1.train.Saver instead.\n",
            "\n",
            "WARNING:tensorflow:From tools/test_lanenet.py:73: The name tf.ConfigProto is deprecated. Please use tf.compat.v1.ConfigProto instead.\n",
            "\n",
            "W0803 14:58:27.892531 5045 module_wrapper.py:139] From tools/test_lanenet.py:73: The name tf.ConfigProto is deprecated. Please use tf.compat.v1.ConfigProto instead.\n",
            "\n",
            "WARNING:tensorflow:From tools/test_lanenet.py:79: The name tf.Session is deprecated. Please use tf.compat.v1.Session instead.\n",
            "\n",
            "W0803 14:58:27.892974 5045 module_wrapper.py:139] From tools/test_lanenet.py:79: The name tf.Session is deprecated. Please use tf.compat.v1.Session instead.\n",
            "\n",
            "2020-08-03 14:58:27.893398: I tensorflow/core/platform/cpu_feature_guard.cc:142] Your CPU supports instructions that this TensorFlow binary was not compiled to use: AVX2 FMA\n",
            "2020-08-03 14:58:27.899920: I tensorflow/core/platform/profile_utils/cpu_utils.cc:94] CPU Frequency: 2300000000 Hz\n",
            "2020-08-03 14:58:27.900273: I tensorflow/compiler/xla/service/service.cc:168] XLA service 0x2f01100 initialized for platform Host (this does not guarantee that XLA will be used). Devices:\n",
            "2020-08-03 14:58:27.900329: I tensorflow/compiler/xla/service/service.cc:176]   StreamExecutor device (0): Host, Default Version\n",
            "2020-08-03 14:58:27.903039: I tensorflow/stream_executor/platform/default/dso_loader.cc:44] Successfully opened dynamic library libcuda.so.1\n",
            "2020-08-03 14:58:27.906601: E tensorflow/stream_executor/cuda/cuda_driver.cc:318] failed call to cuInit: CUDA_ERROR_NO_DEVICE: no CUDA-capable device is detected\n",
            "2020-08-03 14:58:27.906657: I tensorflow/stream_executor/cuda/cuda_diagnostics.cc:156] kernel driver does not appear to be running on this host (2ef5502fee95): /proc/driver/nvidia/version does not exist\n",
            "WARNING:tensorflow:From tools/test_lanenet.py:81: The name tf.global_variables_initializer is deprecated. Please use tf.compat.v1.global_variables_initializer instead.\n",
            "\n",
            "W0803 14:58:27.907272 5045 module_wrapper.py:139] From tools/test_lanenet.py:81: The name tf.global_variables_initializer is deprecated. Please use tf.compat.v1.global_variables_initializer instead.\n",
            "\n",
            "INFO:tensorflow:Restoring parameters from model_culane-71-3/culane_lanenet_vgg_2018-12-01-14-38-37.ckpt-10000\n",
            "I0803 14:58:28.563845 5045 saver.py:1284] Restoring parameters from model_culane-71-3/culane_lanenet_vgg_2018-12-01-14-38-37.ckpt-10000\n",
            "0\n",
            "tcmalloc: large alloc 3185278976 bytes == 0x3bd1c000 @  0x7f875e3f21e7 0x7f871903e0b2 0x7f871cc2583a 0x7f871ccad2b1 0x7f871ccaf45d 0x7f871ccafc11 0x7f871ccb221b 0x7f871ccb28bc 0x7f871ccb3c7c 0x7f87144fde0c 0x7f87144f0575 0x7f87145ae021 0x7f87145ab718 0x7f875ccd46df 0x7f875ddb66db 0x7f875e0efa3f\n",
            "images/IMG_4603.JPG\n",
            "images/IMG_4623.JPG\n",
            "images/IMG_4627.JPG\n",
            "images/IMG_4644.JPG\n",
            "images/IMG_4647.JPG\n",
            "images/IMG_4660.JPG\n"
          ],
          "name": "stdout"
        }
      ]
    },
    {
      "cell_type": "markdown",
      "metadata": {
        "id": "Hao1SvoGv4K7",
        "colab_type": "text"
      },
      "source": [
        "###Convert probability maps to curves\n",
        "Currently using the matlab files from the original repo. Will have to import to python"
      ]
    },
    {
      "cell_type": "code",
      "metadata": {
        "id": "SOjxAaRhQ5GH",
        "colab_type": "code",
        "colab": {}
      },
      "source": [
        "!apt install octave"
      ],
      "execution_count": null,
      "outputs": []
    },
    {
      "cell_type": "code",
      "metadata": {
        "id": "R96aXrlBYNAd",
        "colab_type": "code",
        "colab": {}
      },
      "source": [
        "# Add the following line to each .m (script only, not functions) file \n",
        "# addpath('/content/drive/My Drive/SCNN-Tensorflow/lane-detection-model')\n",
        "\n",
        "!octave -W tools/getLane.m"
      ],
      "execution_count": 18,
      "outputs": []
    },
    {
      "cell_type": "code",
      "metadata": {
        "id": "zDZ5Sy6eT58h",
        "colab_type": "code",
        "colab": {}
      },
      "source": [
        "!octave -W tools/main.m"
      ],
      "execution_count": null,
      "outputs": []
    }
  ]
}