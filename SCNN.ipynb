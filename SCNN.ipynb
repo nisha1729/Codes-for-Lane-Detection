{
  "nbformat": 4,
  "nbformat_minor": 0,
  "metadata": {
    "colab": {
      "name": "SCNN",
      "provenance": [],
      "collapsed_sections": [],
      "mount_file_id": "11US7YwmpcjX79aW7HlO59KxUTN2_BapA",
      "authorship_tag": "ABX9TyPoF6IAdHuwrL+gDYr4cuXI",
      "include_colab_link": true
    },
    "kernelspec": {
      "name": "python3",
      "display_name": "Python 3"
    }
  },
  "cells": [
    {
      "cell_type": "markdown",
      "metadata": {
        "id": "view-in-github",
        "colab_type": "text"
      },
      "source": [
        "<a href=\"https://colab.research.google.com/github/nisha1729/Codes-for-Lane-Detection/blob/master/SCNN.ipynb\" target=\"_parent\"><img src=\"https://colab.research.google.com/assets/colab-badge.svg\" alt=\"Open In Colab\"/></a>"
      ]
    },
    {
      "cell_type": "code",
      "metadata": {
        "id": "V1PJEhzdl1uY",
        "colab_type": "code",
        "colab": {}
      },
      "source": [
        "# from google.colab import drive\n",
        "# drive.mount(\"/content/gdrive\")\n",
        "import os\n",
        "os.chdir(\"/content/drive/My Drive/SCNN-Tensorflow/lane-detection-model\")"
      ],
      "execution_count": 1,
      "outputs": []
    },
    {
      "cell_type": "code",
      "metadata": {
        "id": "SLriVyRZjuI2",
        "colab_type": "code",
        "colab": {}
      },
      "source": [
        "!pip install glog\n",
        "!pip install tensorflow==1.15 # for tensorflow.contrib"
      ],
      "execution_count": null,
      "outputs": []
    },
    {
      "cell_type": "code",
      "metadata": {
        "id": "7xnDuxM9myIE",
        "colab_type": "code",
        "colab": {
          "base_uri": "https://localhost:8080/",
          "height": 855
        },
        "outputId": "da650851-d475-4216-ae51-68f1ca1cc9be"
      },
      "source": [
        "!python config/global_config.py\n",
        "\n",
        "# Add the following two lines to each .py file\n",
        "# import sys\n",
        "# sys.path.append('/content/drive/My Drive/SCNN-Tensorflow/lane-detection-model/config')\n",
        "\n",
        "!python data_provider/lanenet_data_processor.py\n",
        "!python data_provider/lanenet_data_processor_test.py\n",
        "!python encoder_decoder_model/cnn_basenet.py\n",
        "!python encoder_decoder_model/vgg_encoder.py\n",
        "!python lanenet_model/lanenet_merge_model.py"
      ],
      "execution_count": 4,
      "outputs": [
        {
          "output_type": "stream",
          "text": [
            "WARNING:tensorflow:\n",
            "The TensorFlow contrib module will not be included in TensorFlow 2.0.\n",
            "For more information, please see:\n",
            "  * https://github.com/tensorflow/community/blob/master/rfcs/20180907-contrib-sunset.md\n",
            "  * https://github.com/tensorflow/addons\n",
            "  * https://github.com/tensorflow/io (for I/O related ops)\n",
            "If you depend on functionality not listed there, please file an issue.\n",
            "\n",
            "WARNING:tensorflow:\n",
            "The TensorFlow contrib module will not be included in TensorFlow 2.0.\n",
            "For more information, please see:\n",
            "  * https://github.com/tensorflow/community/blob/master/rfcs/20180907-contrib-sunset.md\n",
            "  * https://github.com/tensorflow/addons\n",
            "  * https://github.com/tensorflow/io (for I/O related ops)\n",
            "If you depend on functionality not listed there, please file an issue.\n",
            "\n",
            "WARNING:tensorflow:From encoder_decoder_model/vgg_encoder.py:320: The name tf.placeholder is deprecated. Please use tf.compat.v1.placeholder instead.\n",
            "\n",
            "WARNING:tensorflow:From encoder_decoder_model/vgg_encoder.py:121: The name tf.variable_scope is deprecated. Please use tf.compat.v1.variable_scope instead.\n",
            "\n",
            "WARNING:tensorflow:From /content/drive/My Drive/SCNN-Tensorflow/lane-detection-model/encoder_decoder_model/cnn_basenet.py:76: The name tf.get_variable is deprecated. Please use tf.compat.v1.get_variable instead.\n",
            "\n",
            "WARNING:tensorflow:From /content/drive/My Drive/SCNN-Tensorflow/lane-detection-model/encoder_decoder_model/cnn_basenet.py:148: The name tf.nn.max_pool is deprecated. Please use tf.nn.max_pool2d instead.\n",
            "\n",
            "WARNING:tensorflow:From /content/drive/My Drive/SCNN-Tensorflow/lane-detection-model/encoder_decoder_model/cnn_basenet.py:284: calling dropout (from tensorflow.python.ops.nn_ops) with keep_prob is deprecated and will be removed in a future version.\n",
            "Instructions for updating:\n",
            "Please use `rate` instead of `keep_prob`. Rate should be set to `rate = 1 - keep_prob`.\n",
            "WARNING:tensorflow:From encoder_decoder_model/vgg_encoder.py:298: The name tf.image.resize_images is deprecated. Please use tf.image.resize instead.\n",
            "\n",
            "WARNING:tensorflow:From /content/drive/My Drive/SCNN-Tensorflow/lane-detection-model/encoder_decoder_model/cnn_basenet.py:172: The name tf.nn.avg_pool is deprecated. Please use tf.nn.avg_pool2d instead.\n",
            "\n",
            "WARNING:tensorflow:From /content/drive/My Drive/SCNN-Tensorflow/lane-detection-model/encoder_decoder_model/cnn_basenet.py:330: dense (from tensorflow.python.layers.core) is deprecated and will be removed in a future version.\n",
            "Instructions for updating:\n",
            "Use keras.layers.Dense instead.\n",
            "WARNING:tensorflow:From /usr/local/lib/python3.6/dist-packages/tensorflow_core/python/layers/core.py:187: Layer.apply (from tensorflow.python.keras.engine.base_layer) is deprecated and will be removed in a future version.\n",
            "Instructions for updating:\n",
            "Please use `layer.__call__` method instead.\n",
            "OrderedDict([('prob_output', <tf.Tensor 'encode/resize/ResizeBilinear:0' shape=(8, 288, 800, 5) dtype=float32>), ('existence_output', <tf.Tensor 'encode/dense_1/output:0' shape=(8, 4) dtype=float32>)])\n",
            "WARNING:tensorflow:\n",
            "The TensorFlow contrib module will not be included in TensorFlow 2.0.\n",
            "For more information, please see:\n",
            "  * https://github.com/tensorflow/community/blob/master/rfcs/20180907-contrib-sunset.md\n",
            "  * https://github.com/tensorflow/addons\n",
            "  * https://github.com/tensorflow/io (for I/O related ops)\n",
            "If you depend on functionality not listed there, please file an issue.\n",
            "\n"
          ],
          "name": "stdout"
        }
      ]
    },
    {
      "cell_type": "code",
      "metadata": {
        "id": "KfAqa4Pcg9Ej",
        "colab_type": "code",
        "colab": {
          "base_uri": "https://localhost:8080/",
          "height": 588
        },
        "outputId": "90d18cd9-e340-4764-b472-fd25edc79cb5"
      },
      "source": [
        "!python tools/test_lanenet.py --weights_path model_culane-71-3/ --image_path images/IMG_4603.JPG\n"
      ],
      "execution_count": 6,
      "outputs": [
        {
          "output_type": "stream",
          "text": [
            "I0730 09:43:38.885319 902 utils.py:141] NumExpr defaulting to 2 threads.\n",
            "WARNING:tensorflow:\n",
            "The TensorFlow contrib module will not be included in TensorFlow 2.0.\n",
            "For more information, please see:\n",
            "  * https://github.com/tensorflow/community/blob/master/rfcs/20180907-contrib-sunset.md\n",
            "  * https://github.com/tensorflow/addons\n",
            "  * https://github.com/tensorflow/io (for I/O related ops)\n",
            "If you depend on functionality not listed there, please file an issue.\n",
            "\n",
            "W0730 09:43:39.278379 902 lazy_loader.py:50] \n",
            "The TensorFlow contrib module will not be included in TensorFlow 2.0.\n",
            "For more information, please see:\n",
            "  * https://github.com/tensorflow/community/blob/master/rfcs/20180907-contrib-sunset.md\n",
            "  * https://github.com/tensorflow/addons\n",
            "  * https://github.com/tensorflow/io (for I/O related ops)\n",
            "If you depend on functionality not listed there, please file an issue.\n",
            "\n",
            "WARNING:tensorflow:From /content/drive/My Drive/SCNN-Tensorflow/lane-detection-model/data_provider/lanenet_data_processor_test.py:44: The name tf.gfile.Exists is deprecated. Please use tf.io.gfile.exists instead.\n",
            "\n",
            "W0730 09:43:39.339488 902 module_wrapper.py:139] From /content/drive/My Drive/SCNN-Tensorflow/lane-detection-model/data_provider/lanenet_data_processor_test.py:44: The name tf.gfile.Exists is deprecated. Please use tf.io.gfile.exists instead.\n",
            "\n",
            "Traceback (most recent call last):\n",
            "  File \"tools/test_lanenet.py\", line 124, in <module>\n",
            "    test_lanenet(args.image_path, args.weights_path, args.use_gpu, img_name, args.batch_size, save_dir)\n",
            "  File \"tools/test_lanenet.py\", line 61, in test_lanenet\n",
            "    test_dataset = lanenet_data_processor_test.DataSet(image_path, batch_size)\n",
            "  File \"/content/drive/My Drive/SCNN-Tensorflow/lane-detection-model/data_provider/lanenet_data_processor_test.py\", line 32, in __init__\n",
            "    self._img_list = self._init_dataset()\n",
            "  File \"/content/drive/My Drive/SCNN-Tensorflow/lane-detection-model/data_provider/lanenet_data_processor_test.py\", line 49, in _init_dataset\n",
            "    info_tmp = _info.strip(' ').split()\n",
            "TypeError: a bytes-like object is required, not 'str'\n"
          ],
          "name": "stdout"
        }
      ]
    },
    {
      "cell_type": "code",
      "metadata": {
        "id": "nIy6MfQ4mxrE",
        "colab_type": "code",
        "colab": {}
      },
      "source": [
        ""
      ],
      "execution_count": null,
      "outputs": []
    },
    {
      "cell_type": "code",
      "metadata": {
        "id": "KzKUmJI6l0Kq",
        "colab_type": "code",
        "colab": {}
      },
      "source": [
        ""
      ],
      "execution_count": null,
      "outputs": []
    }
  ]
}