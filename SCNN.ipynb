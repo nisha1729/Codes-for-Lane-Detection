{
  "nbformat": 4,
  "nbformat_minor": 0,
  "metadata": {
    "colab": {
      "name": "SCNN",
      "provenance": [],
      "collapsed_sections": [],
      "mount_file_id": "11US7YwmpcjX79aW7HlO59KxUTN2_BapA",
      "authorship_tag": "ABX9TyMTJ0FWG3gcRT/dEz/S5WqS",
      "include_colab_link": true
    },
    "kernelspec": {
      "name": "python3",
      "display_name": "Python 3"
    }
  },
  "cells": [
    {
      "cell_type": "markdown",
      "metadata": {
        "id": "view-in-github",
        "colab_type": "text"
      },
      "source": [
        "<a href=\"https://colab.research.google.com/github/nisha1729/Codes-for-Lane-Detection/blob/master/SCNN.ipynb\" target=\"_parent\"><img src=\"https://colab.research.google.com/assets/colab-badge.svg\" alt=\"Open In Colab\"/></a>"
      ]
    },
    {
      "cell_type": "code",
      "metadata": {
        "id": "V1PJEhzdl1uY",
        "colab_type": "code",
        "colab": {
          "base_uri": "https://localhost:8080/",
          "height": 35
        },
        "outputId": "0a1b2ed8-1fe4-4b71-c1e4-1361035f5c62"
      },
      "source": [
        "from google.colab import drive\n",
        "drive.mount(\"/content/gdrive\")\n",
        "import os\n",
        "os.chdir(\"/content/gdrive/My Drive/SCNN-Tensorflow/lane-detection-model\")"
      ],
      "execution_count": 17,
      "outputs": [
        {
          "output_type": "stream",
          "text": [
            "Mounted at /content/gdrive\n"
          ],
          "name": "stdout"
        }
      ]
    },
    {
      "cell_type": "code",
      "metadata": {
        "id": "SLriVyRZjuI2",
        "colab_type": "code",
        "colab": {
          "base_uri": "https://localhost:8080/",
          "height": 70
        },
        "outputId": "f4decc77-8e9d-415c-80df-b7fbd3e23071"
      },
      "source": [
        "!pip install glog"
      ],
      "execution_count": 18,
      "outputs": [
        {
          "output_type": "stream",
          "text": [
            "Requirement already satisfied: glog in /usr/local/lib/python3.6/dist-packages (0.3.1)\n",
            "Requirement already satisfied: python-gflags>=3.1 in /usr/local/lib/python3.6/dist-packages (from glog) (3.1.2)\n",
            "Requirement already satisfied: six in /usr/local/lib/python3.6/dist-packages (from glog) (1.15.0)\n"
          ],
          "name": "stdout"
        }
      ]
    },
    {
      "cell_type": "code",
      "metadata": {
        "id": "7xnDuxM9myIE",
        "colab_type": "code",
        "colab": {}
      },
      "source": [
        "!python config/global_config.py\n",
        "# !pip install tensorflow==1.15 : for tensorflow.contrib\n",
        "\n",
        "# Add the following two lines to each .py file\n",
        "# import sys\n",
        "# sys.path.append('/content/gdrive/My Drive/SCNN-Tensorflow/lane-detection-model/config')\n",
        "\n",
        "!python data_provider/lanenet_data_processor.py\n",
        "!python data_provider/lanenet_data_processor_test.py\n",
        "!python encoder_decoder_model/cnn_basenet.py\n",
        "!python encoder_decoder_model/vgg_encoder.py\n",
        "!python lanenet_model/lanenet_merge_model.py"
      ],
      "execution_count": null,
      "outputs": []
    },
    {
      "cell_type": "code",
      "metadata": {
        "id": "KfAqa4Pcg9Ej",
        "colab_type": "code",
        "colab": {
          "base_uri": "https://localhost:8080/",
          "height": 624
        },
        "outputId": "00d3ee3f-f6d9-4b3e-8503-c83e35e89316"
      },
      "source": [
        "!python tools/test_lanenet.py --weights_path model_culane-71-3/ --image_path images/IMG_4603.JPG\n"
      ],
      "execution_count": 22,
      "outputs": [
        {
          "output_type": "stream",
          "text": [
            "I0729 13:26:03.765171 2005 utils.py:141] NumExpr defaulting to 2 threads.\n",
            "WARNING:tensorflow:\n",
            "The TensorFlow contrib module will not be included in TensorFlow 2.0.\n",
            "For more information, please see:\n",
            "  * https://github.com/tensorflow/community/blob/master/rfcs/20180907-contrib-sunset.md\n",
            "  * https://github.com/tensorflow/addons\n",
            "  * https://github.com/tensorflow/io (for I/O related ops)\n",
            "If you depend on functionality not listed there, please file an issue.\n",
            "\n",
            "W0729 13:26:04.171398 2005 lazy_loader.py:50] \n",
            "The TensorFlow contrib module will not be included in TensorFlow 2.0.\n",
            "For more information, please see:\n",
            "  * https://github.com/tensorflow/community/blob/master/rfcs/20180907-contrib-sunset.md\n",
            "  * https://github.com/tensorflow/addons\n",
            "  * https://github.com/tensorflow/io (for I/O related ops)\n",
            "If you depend on functionality not listed there, please file an issue.\n",
            "\n",
            "WARNING:tensorflow:From /content/gdrive/My Drive/SCNN-Tensorflow/lane-detection-model/data_provider/lanenet_data_processor_test.py:44: The name tf.gfile.Exists is deprecated. Please use tf.io.gfile.exists instead.\n",
            "\n",
            "W0729 13:26:04.734081 2005 module_wrapper.py:139] From /content/gdrive/My Drive/SCNN-Tensorflow/lane-detection-model/data_provider/lanenet_data_processor_test.py:44: The name tf.gfile.Exists is deprecated. Please use tf.io.gfile.exists instead.\n",
            "\n",
            "Traceback (most recent call last):\n",
            "  File \"tools/test_lanenet.py\", line 124, in <module>\n",
            "    test_lanenet(args.image_path, args.weights_path, args.use_gpu, img_name, args.batch_size, save_dir)\n",
            "  File \"tools/test_lanenet.py\", line 61, in test_lanenet\n",
            "    test_dataset = lanenet_data_processor_test.DataSet(image_path, batch_size)\n",
            "  File \"/content/gdrive/My Drive/SCNN-Tensorflow/lane-detection-model/data_provider/lanenet_data_processor_test.py\", line 32, in __init__\n",
            "    self._img_list = self._init_dataset()\n",
            "  File \"/content/gdrive/My Drive/SCNN-Tensorflow/lane-detection-model/data_provider/lanenet_data_processor_test.py\", line 48, in _init_dataset\n",
            "    for _info in file:\n",
            "  File \"/usr/lib/python3.6/codecs.py\", line 321, in decode\n",
            "    (result, consumed) = self._buffer_decode(data, self.errors, final)\n",
            "UnicodeDecodeError: 'utf-8' codec can't decode byte 0xff in position 0: invalid start byte\n"
          ],
          "name": "stdout"
        }
      ]
    },
    {
      "cell_type": "code",
      "metadata": {
        "id": "nIy6MfQ4mxrE",
        "colab_type": "code",
        "colab": {}
      },
      "source": [
        ""
      ],
      "execution_count": null,
      "outputs": []
    },
    {
      "cell_type": "code",
      "metadata": {
        "id": "KzKUmJI6l0Kq",
        "colab_type": "code",
        "colab": {}
      },
      "source": [
        ""
      ],
      "execution_count": null,
      "outputs": []
    }
  ]
}